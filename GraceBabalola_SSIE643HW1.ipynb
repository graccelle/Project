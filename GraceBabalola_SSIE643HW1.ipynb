{
  "nbformat": 4,
  "nbformat_minor": 0,
  "metadata": {
    "colab": {
      "name": "GraceBabalola_SSIE643HW1.ipynb",
      "provenance": [],
      "collapsed_sections": [],
      "authorship_tag": "ABX9TyOJ+AU45zHIsQE4Vh7ZT3HL",
      "include_colab_link": true
    },
    "kernelspec": {
      "name": "python3",
      "display_name": "Python 3"
    },
    "widgets": {
      "application/vnd.jupyter.widget-state+json": {
        "eab8c05bf75b4468b7f0bac44b3a5715": {
          "model_module": "@jupyter-widgets/controls",
          "model_name": "HBoxModel",
          "state": {
            "_view_name": "HBoxView",
            "_dom_classes": [],
            "_model_name": "HBoxModel",
            "_view_module": "@jupyter-widgets/controls",
            "_model_module_version": "1.5.0",
            "_view_count": null,
            "_view_module_version": "1.5.0",
            "box_style": "",
            "layout": "IPY_MODEL_8057ba34225e423d9ce36c8a4d7af143",
            "_model_module": "@jupyter-widgets/controls",
            "children": [
              "IPY_MODEL_f9ebf6b2423741fdae952952bc0b83b4",
              "IPY_MODEL_887b0a5aef1c4415bb36e03ed33f671c"
            ]
          }
        },
        "8057ba34225e423d9ce36c8a4d7af143": {
          "model_module": "@jupyter-widgets/base",
          "model_name": "LayoutModel",
          "state": {
            "_view_name": "LayoutView",
            "grid_template_rows": null,
            "right": null,
            "justify_content": null,
            "_view_module": "@jupyter-widgets/base",
            "overflow": null,
            "_model_module_version": "1.2.0",
            "_view_count": null,
            "flex_flow": null,
            "width": null,
            "min_width": null,
            "border": null,
            "align_items": null,
            "bottom": null,
            "_model_module": "@jupyter-widgets/base",
            "top": null,
            "grid_column": null,
            "overflow_y": null,
            "overflow_x": null,
            "grid_auto_flow": null,
            "grid_area": null,
            "grid_template_columns": null,
            "flex": null,
            "_model_name": "LayoutModel",
            "justify_items": null,
            "grid_row": null,
            "max_height": null,
            "align_content": null,
            "visibility": null,
            "align_self": null,
            "height": null,
            "min_height": null,
            "padding": null,
            "grid_auto_rows": null,
            "grid_gap": null,
            "max_width": null,
            "order": null,
            "_view_module_version": "1.2.0",
            "grid_template_areas": null,
            "object_position": null,
            "object_fit": null,
            "grid_auto_columns": null,
            "margin": null,
            "display": null,
            "left": null
          }
        },
        "f9ebf6b2423741fdae952952bc0b83b4": {
          "model_module": "@jupyter-widgets/controls",
          "model_name": "FloatProgressModel",
          "state": {
            "_view_name": "ProgressView",
            "style": "IPY_MODEL_f5a3d9e811d14b699d94709e3c92fb6d",
            "_dom_classes": [],
            "description": "Loop...: 100%",
            "_model_name": "FloatProgressModel",
            "bar_style": "success",
            "max": 3,
            "_view_module": "@jupyter-widgets/controls",
            "_model_module_version": "1.5.0",
            "value": 3,
            "_view_count": null,
            "_view_module_version": "1.5.0",
            "orientation": "horizontal",
            "min": 0,
            "description_tooltip": null,
            "_model_module": "@jupyter-widgets/controls",
            "layout": "IPY_MODEL_d49c3e1fa17a44869b35d19a20404097"
          }
        },
        "887b0a5aef1c4415bb36e03ed33f671c": {
          "model_module": "@jupyter-widgets/controls",
          "model_name": "HTMLModel",
          "state": {
            "_view_name": "HTMLView",
            "style": "IPY_MODEL_5f00c6899930406d9da8e156e046d644",
            "_dom_classes": [],
            "description": "",
            "_model_name": "HTMLModel",
            "placeholder": "​",
            "_view_module": "@jupyter-widgets/controls",
            "_model_module_version": "1.5.0",
            "value": " 3/3 [06:13&lt;00:00, 124.37s/it]",
            "_view_count": null,
            "_view_module_version": "1.5.0",
            "description_tooltip": null,
            "_model_module": "@jupyter-widgets/controls",
            "layout": "IPY_MODEL_83e72f7b0688447088a2537a5bb7431b"
          }
        },
        "f5a3d9e811d14b699d94709e3c92fb6d": {
          "model_module": "@jupyter-widgets/controls",
          "model_name": "ProgressStyleModel",
          "state": {
            "_view_name": "StyleView",
            "_model_name": "ProgressStyleModel",
            "description_width": "initial",
            "_view_module": "@jupyter-widgets/base",
            "_model_module_version": "1.5.0",
            "_view_count": null,
            "_view_module_version": "1.2.0",
            "bar_color": null,
            "_model_module": "@jupyter-widgets/controls"
          }
        },
        "d49c3e1fa17a44869b35d19a20404097": {
          "model_module": "@jupyter-widgets/base",
          "model_name": "LayoutModel",
          "state": {
            "_view_name": "LayoutView",
            "grid_template_rows": null,
            "right": null,
            "justify_content": null,
            "_view_module": "@jupyter-widgets/base",
            "overflow": null,
            "_model_module_version": "1.2.0",
            "_view_count": null,
            "flex_flow": null,
            "width": null,
            "min_width": null,
            "border": null,
            "align_items": null,
            "bottom": null,
            "_model_module": "@jupyter-widgets/base",
            "top": null,
            "grid_column": null,
            "overflow_y": null,
            "overflow_x": null,
            "grid_auto_flow": null,
            "grid_area": null,
            "grid_template_columns": null,
            "flex": null,
            "_model_name": "LayoutModel",
            "justify_items": null,
            "grid_row": null,
            "max_height": null,
            "align_content": null,
            "visibility": null,
            "align_self": null,
            "height": null,
            "min_height": null,
            "padding": null,
            "grid_auto_rows": null,
            "grid_gap": null,
            "max_width": null,
            "order": null,
            "_view_module_version": "1.2.0",
            "grid_template_areas": null,
            "object_position": null,
            "object_fit": null,
            "grid_auto_columns": null,
            "margin": null,
            "display": null,
            "left": null
          }
        },
        "5f00c6899930406d9da8e156e046d644": {
          "model_module": "@jupyter-widgets/controls",
          "model_name": "DescriptionStyleModel",
          "state": {
            "_view_name": "StyleView",
            "_model_name": "DescriptionStyleModel",
            "description_width": "",
            "_view_module": "@jupyter-widgets/base",
            "_model_module_version": "1.5.0",
            "_view_count": null,
            "_view_module_version": "1.2.0",
            "_model_module": "@jupyter-widgets/controls"
          }
        },
        "83e72f7b0688447088a2537a5bb7431b": {
          "model_module": "@jupyter-widgets/base",
          "model_name": "LayoutModel",
          "state": {
            "_view_name": "LayoutView",
            "grid_template_rows": null,
            "right": null,
            "justify_content": null,
            "_view_module": "@jupyter-widgets/base",
            "overflow": null,
            "_model_module_version": "1.2.0",
            "_view_count": null,
            "flex_flow": null,
            "width": null,
            "min_width": null,
            "border": null,
            "align_items": null,
            "bottom": null,
            "_model_module": "@jupyter-widgets/base",
            "top": null,
            "grid_column": null,
            "overflow_y": null,
            "overflow_x": null,
            "grid_auto_flow": null,
            "grid_area": null,
            "grid_template_columns": null,
            "flex": null,
            "_model_name": "LayoutModel",
            "justify_items": null,
            "grid_row": null,
            "max_height": null,
            "align_content": null,
            "visibility": null,
            "align_self": null,
            "height": null,
            "min_height": null,
            "padding": null,
            "grid_auto_rows": null,
            "grid_gap": null,
            "max_width": null,
            "order": null,
            "_view_module_version": "1.2.0",
            "grid_template_areas": null,
            "object_position": null,
            "object_fit": null,
            "grid_auto_columns": null,
            "margin": null,
            "display": null,
            "left": null
          }
        }
      }
    }
  },
  "cells": [
    {
      "cell_type": "markdown",
      "metadata": {
        "id": "view-in-github",
        "colab_type": "text"
      },
      "source": [
        "<a href=\"https://colab.research.google.com/github/graccelle/hello-world/blob/master/GraceBabalola_SSIE643HW1.ipynb\" target=\"_parent\"><img src=\"https://colab.research.google.com/assets/colab-badge.svg\" alt=\"Open In Colab\"/></a>"
      ]
    },
    {
      "cell_type": "code",
      "metadata": {
        "id": "uHM8-a0EzD8F",
        "colab_type": "code",
        "colab": {}
      },
      "source": [
        "# Libraries Imported\n",
        "\n",
        "import numpy as np\n",
        "import pandas as pd\n",
        "import matplotlib.pyplot as plt\n",
        "import math\n",
        "from sklearn.preprocessing import scale \n",
        "from sklearn.model_selection import train_test_split\n",
        "from sklearn.linear_model import Ridge, RidgeCV, Lasso, LassoCV\n",
        "from sklearn.metrics import mean_squared_error\n",
        "from sklearn.linear_model import LinearRegression\n",
        "import seaborn as sns\n",
        "import random\n",
        "import itertools\n",
        "from sklearn.metrics import r2_score\n",
        "import scipy.stats as st\n",
        "%matplotlib inline"
      ],
      "execution_count": 2,
      "outputs": []
    },
    {
      "cell_type": "markdown",
      "metadata": {
        "id": "FBzWgk54g6O_",
        "colab_type": "text"
      },
      "source": [
        "**Explanation**: The codes in line [4]above were written to import all the possible packages that would be needed to completet the task assigned."
      ]
    },
    {
      "cell_type": "markdown",
      "metadata": {
        "id": "BjMeEFn6zUgd",
        "colab_type": "text"
      },
      "source": [
        "**Q1.** Do the computer simulation to generate 𝑦=5+4𝑥1+3𝑥2−2𝑥3+𝜀,with 𝜀∼𝒩(0, 0.5^2), 𝑥1∼unif(0,4), 𝑥2∼unif(1,4), 𝑥3∼𝒩(3,0.4^2). 𝑁=20."
      ]
    },
    {
      "cell_type": "code",
      "metadata": {
        "id": "Nof1M3hi0JBR",
        "colab_type": "code",
        "colab": {
          "base_uri": "https://localhost:8080/",
          "height": 68
        },
        "outputId": "76709298-a578-4e31-d2ea-a921a9786161"
      },
      "source": [
        "# Data Preparation \n",
        "N = 20\n",
        "\n",
        "random.seed(5)\n",
        "err = np.random.normal(0, 0.5, (N,1))  # As given in the question, error term has a normal distribution with mean of 0 and standard deviation of 0.5.\n",
        "\n",
        "random.seed(5)\n",
        "X1 = np.random.uniform(0, 4, (N, 1))    # As given in the question, X1 and X2 has a uniform distribution between 0 and 4, and 1 and 4 respectively.\n",
        "\n",
        "random.seed(5)\n",
        "X2 = np.random.uniform(1, 4, (N, 1))\n",
        "\n",
        "random.seed(5)\n",
        "X3 = np.random.normal(3, 0.4, (N, 1))    # As given in the question, error term has a normal distribution with mean of 3 and standard deviation of 0.4.\n",
        "\n",
        "X0 = np.concatenate((X1, X2, X3), axis = 1)\n",
        "\n",
        "X = np.concatenate((np.ones((N,1)), X0), axis = 1) # To compute Matrix of features.\n",
        "\n",
        "beta = np.array([5, 4, 3, -2])           # To compute the bias terms arrays (4 x 1).\n",
        "beta = np.asmatrix(beta)                 # For converting to a 4 x 1 vector.\n",
        "\n",
        "y = X.dot(beta.T) + err\n",
        "y[:3]  # Alternative to print output command used to view the values for y"
      ],
      "execution_count": 4,
      "outputs": [
        {
          "output_type": "execute_result",
          "data": {
            "text/plain": [
              "matrix([[ 4.84443848],\n",
              "        [14.4222424 ],\n",
              "        [ 3.5708139 ]])"
            ]
          },
          "metadata": {
            "tags": []
          },
          "execution_count": 4
        }
      ]
    },
    {
      "cell_type": "markdown",
      "metadata": {
        "id": "zyhAzDQ58u8x",
        "colab_type": "text"
      },
      "source": [
        "(**1**) **Calculation** **of** **Beta** **hat** **Using the formula in Q1**"
      ]
    },
    {
      "cell_type": "code",
      "metadata": {
        "id": "KUWqRTfhdiru",
        "colab_type": "code",
        "colab": {
          "base_uri": "https://localhost:8080/",
          "height": 85
        },
        "outputId": "04d2e29f-09cb-4d28-c75d-ff39c8e50bba"
      },
      "source": [
        "# Coefficient Estimate\n",
        "iX = np.linalg.inv(X.T.dot(X))\n",
        "coef = iX.dot(X.T).dot(y)\n",
        "print(f'{coef}')    # To view the values of beta hat estimate"
      ],
      "execution_count": 5,
      "outputs": [
        {
          "output_type": "stream",
          "text": [
            "[[ 4.36479719]\n",
            " [ 3.90364322]\n",
            " [ 3.1603537 ]\n",
            " [-1.8522934 ]]\n"
          ],
          "name": "stdout"
        }
      ]
    },
    {
      "cell_type": "markdown",
      "metadata": {
        "id": "Cg36MIbLe8Se",
        "colab_type": "text"
      },
      "source": [
        "**Explanation**: As shown by the output of the command \"print (f'{coef}')\" the estimate of the coefficient of Beta hat is very close to the coefficients in the formula but not exactly."
      ]
    },
    {
      "cell_type": "markdown",
      "metadata": {
        "id": "TDiPU3N-f4Hn",
        "colab_type": "text"
      },
      "source": [
        "**Calculation of Standard Deviation hat (𝜎̂^2)**"
      ]
    },
    {
      "cell_type": "code",
      "metadata": {
        "id": "9cD546L2f_y5",
        "colab_type": "code",
        "colab": {
          "base_uri": "https://localhost:8080/",
          "height": 68
        },
        "outputId": "0a83f6f6-5728-4b3c-ce44-f0d518c5eebb"
      },
      "source": [
        "# Prediction at the training input\n",
        "p = 3\n",
        "yhat = X.dot(coef)\n",
        "print(f'{yhat[:3]}')       # To view the values of yhat estimate"
      ],
      "execution_count": 6,
      "outputs": [
        {
          "output_type": "stream",
          "text": [
            "[[ 5.25095877]\n",
            " [13.33433355]\n",
            " [ 3.86528301]]\n"
          ],
          "name": "stdout"
        }
      ]
    },
    {
      "cell_type": "markdown",
      "metadata": {
        "id": "H5Nh-6PalIf5",
        "colab_type": "text"
      },
      "source": [
        "**Explanation:** To calculate 𝜎̂^2, we first need to calculate yhat estimate, which was gotten with the code in line [25]. Afterwards we calculate 𝜎̂^2 estimate with p=3, since we have three independent variables (i.e. X1, X2, & X3) which forms the three column for the matrix. The code in line [33] is the computation of 𝜎̂^2 when N=20, p=3; the estimated value of 𝜎̂^2 is 0.3161."
      ]
    },
    {
      "cell_type": "code",
      "metadata": {
        "id": "CtDLHPCekuco",
        "colab_type": "code",
        "colab": {
          "base_uri": "https://localhost:8080/",
          "height": 34
        },
        "outputId": "aeda2863-18a4-4934-e3ab-666f8aa067b0"
      },
      "source": [
        "# 𝜎̂^2 Estimate\n",
        "val = (1/ (N-p-1)) *np.sum(np.dot((y-yhat).T, (y-yhat)))\n",
        "val         # To view the value of standard deviation hat estimate"
      ],
      "execution_count": 7,
      "outputs": [
        {
          "output_type": "execute_result",
          "data": {
            "text/plain": [
              "0.31608423499791294"
            ]
          },
          "metadata": {
            "tags": []
          },
          "execution_count": 7
        }
      ]
    },
    {
      "cell_type": "markdown",
      "metadata": {
        "id": "lT_7j_pxoybc",
        "colab_type": "text"
      },
      "source": [
        "**Calculation of the Hat Matrix**"
      ]
    },
    {
      "cell_type": "code",
      "metadata": {
        "id": "oui2dbCKm0qv",
        "colab_type": "code",
        "colab": {
          "base_uri": "https://localhost:8080/",
          "height": 153
        },
        "outputId": "833c1b1d-963d-4f3e-df60-3da2a9c150bf"
      },
      "source": [
        "# Hat Matrix Estimate\n",
        "\n",
        "H = X.dot(iX).dot(X.T)\n",
        "H[:2]"
      ],
      "execution_count": 8,
      "outputs": [
        {
          "output_type": "execute_result",
          "data": {
            "text/plain": [
              "array([[ 0.17404012,  0.01983618,  0.15062758,  0.06774296,  0.12082457,\n",
              "         0.15448366,  0.04340762,  0.17635409,  0.0685393 ,  0.05040441,\n",
              "        -0.01982913,  0.08516308, -0.07341465,  0.06798267, -0.03838225,\n",
              "        -0.1006742 , -0.03731551,  0.00508984,  0.08183499,  0.00328465],\n",
              "       [ 0.01983618,  0.1239508 ,  0.10067442,  0.09671115, -0.0022337 ,\n",
              "        -0.06946857,  0.11294699,  0.0136403 , -0.03624953, -0.03246639,\n",
              "        -0.02824831,  0.09938942,  0.09678262,  0.01442345,  0.0021228 ,\n",
              "         0.09018761,  0.09975178,  0.08049323,  0.11307797,  0.10467778]])"
            ]
          },
          "metadata": {
            "tags": []
          },
          "execution_count": 8
        }
      ]
    },
    {
      "cell_type": "markdown",
      "metadata": {
        "id": "Fn7JlIPLq9QZ",
        "colab_type": "text"
      },
      "source": [
        "**Rows Summation of the Hat Matrix Estimate**"
      ]
    },
    {
      "cell_type": "code",
      "metadata": {
        "id": "2bRcfv9kpOSv",
        "colab_type": "code",
        "colab": {
          "base_uri": "https://localhost:8080/",
          "height": 51
        },
        "outputId": "cac02e86-7430-47c7-b517-25bb4143f6c3"
      },
      "source": [
        "# Row sum of the Hat Matrix Estimate\n",
        "H_row_sum = np.sum(H, axis=1)  # To sum across the Matrix rows \n",
        "H_row_sum"
      ],
      "execution_count": 9,
      "outputs": [
        {
          "output_type": "execute_result",
          "data": {
            "text/plain": [
              "array([1., 1., 1., 1., 1., 1., 1., 1., 1., 1., 1., 1., 1., 1., 1., 1., 1.,\n",
              "       1., 1., 1.])"
            ]
          },
          "metadata": {
            "tags": []
          },
          "execution_count": 9
        }
      ]
    },
    {
      "cell_type": "markdown",
      "metadata": {
        "id": "CBwQRWxsqat9",
        "colab_type": "text"
      },
      "source": [
        "**Explanation:** The summation of the Hat Matrix rows indicates the extra bias column for the bias term (b0) that was added to the X matrix. The Hat Matrix is the matrix of projection. It expresses the values of the observations in the independent variable (y), which is in terms of the linear combinations of the column vectors of the model matrix, X. The model matrix contains the observations for each of the multiple variables upon which is being regressed."
      ]
    },
    {
      "cell_type": "markdown",
      "metadata": {
        "id": "4BWs_kCXrZHg",
        "colab_type": "text"
      },
      "source": [
        "**(2) Calculation of Confidence Interval for Beta Hat**"
      ]
    },
    {
      "cell_type": "code",
      "metadata": {
        "id": "6LhJI70wqZEq",
        "colab_type": "code",
        "colab": {
          "base_uri": "https://localhost:8080/",
          "height": 34
        },
        "outputId": "a587fafe-c4cb-4250-f966-220651b72859"
      },
      "source": [
        "# Degree of Freedom\n",
        "df = N - p - 1\n",
        "\n",
        "# Residual Sum of Squares\n",
        "RSS = sum(np.asarray(yhat - y)**2)\n",
        "sigma2 = RSS / df\n",
        "(RSS, sigma2)"
      ],
      "execution_count": 10,
      "outputs": [
        {
          "output_type": "execute_result",
          "data": {
            "text/plain": [
              "(array([5.05734776]), array([0.31608423]))"
            ]
          },
          "metadata": {
            "tags": []
          },
          "execution_count": 10
        }
      ]
    },
    {
      "cell_type": "code",
      "metadata": {
        "id": "VkYNbciftXhf",
        "colab_type": "code",
        "colab": {
          "base_uri": "https://localhost:8080/",
          "height": 34
        },
        "outputId": "28b4caab-f8f2-4394-ffa3-d36cb2a06fe8"
      },
      "source": [
        "# Calculation of Confidence Interval For Beta1\n",
        "j = 0\n",
        "\n",
        "Cjj = iX[j,j] \n",
        "\n",
        "stdE = np.sqrt(Cjj*sigma2)  # Standard error calculation\n",
        "\n",
        "tval = st.t.ppf(1-0.025, df)  # T value calculation\n",
        "\n",
        "#Calculate confidence interval\n",
        "CI_lower = coef[j] -(tval*stdE)  # Lower Bound C.I. calculation\n",
        "CI_upper = coef[j] + (tval*stdE)   # Upper Bound C.I. calculation\n",
        "print (f'{tval},{CI_lower},{CI_upper}')"
      ],
      "execution_count": 11,
      "outputs": [
        {
          "output_type": "stream",
          "text": [
            "2.1199052992210112,[[2.48657371]],[[6.24302067]]\n"
          ],
          "name": "stdout"
        }
      ]
    },
    {
      "cell_type": "markdown",
      "metadata": {
        "id": "WNp2PYE6xiet",
        "colab_type": "text"
      },
      "source": [
        "**Explanation:** The t value for beta 1 is **2.1199** and the confidence intreval is from **2.4866 to 6.2430**."
      ]
    },
    {
      "cell_type": "code",
      "metadata": {
        "id": "r7HxZAOLwR-0",
        "colab_type": "code",
        "colab": {
          "base_uri": "https://localhost:8080/",
          "height": 34
        },
        "outputId": "c2518432-ecb0-4656-9e2a-30423a90b26f"
      },
      "source": [
        "# Calculation of Confidence Interval For Beta2\n",
        "j = 1\n",
        "\n",
        "Cjj = iX[j,j] \n",
        "\n",
        "stdE = np.sqrt(Cjj*sigma2)  # Standard error calculation\n",
        "\n",
        "tval = st.t.ppf(1-0.025, df)  # T value calculation\n",
        "\n",
        "#Calculate confidence interval\n",
        "CI_lower = coef[j] -(tval*stdE)  # Lower Bound C.I. calculation\n",
        "CI_upper = coef[j] + (tval*stdE)   # Upper Bound C.I. calculation\n",
        "print (f'{tval},{CI_lower},{CI_upper}')"
      ],
      "execution_count": 12,
      "outputs": [
        {
          "output_type": "stream",
          "text": [
            "2.1199052992210112,[[3.67035904]],[[4.1369274]]\n"
          ],
          "name": "stdout"
        }
      ]
    },
    {
      "cell_type": "markdown",
      "metadata": {
        "id": "nsklSs2ay3Qo",
        "colab_type": "text"
      },
      "source": [
        "**Explanation:** The t value for beta 2 is **2.1199** and the confidence intreval is from **3.6704 to 4.1369**."
      ]
    },
    {
      "cell_type": "code",
      "metadata": {
        "id": "8vDi12FWy0gN",
        "colab_type": "code",
        "colab": {
          "base_uri": "https://localhost:8080/",
          "height": 34
        },
        "outputId": "3ee5fd8b-cc1a-4290-8da7-f37fbc8ed67c"
      },
      "source": [
        "# Calculation of Confidence Interval For Beta3\n",
        "j = 2\n",
        "\n",
        "Cjj = iX[j,j] \n",
        "\n",
        "stdE = np.sqrt(Cjj*sigma2)  # Standard error calculation\n",
        "\n",
        "tval = st.t.ppf(1-0.025, df) # T value calculation\n",
        "\n",
        "#Calculate confidence interval\n",
        "CI_lower = coef[j] -(tval*stdE)  # Lower Bound C.I. calculation\n",
        "CI_upper = coef[j] + (tval*stdE)   # Upper Bound C.I. calculation\n",
        "print (f'{tval},{CI_lower},{CI_upper}')"
      ],
      "execution_count": 13,
      "outputs": [
        {
          "output_type": "stream",
          "text": [
            "2.1199052992210112,[[2.87930942]],[[3.44139798]]\n"
          ],
          "name": "stdout"
        }
      ]
    },
    {
      "cell_type": "markdown",
      "metadata": {
        "id": "2BfHPUdTzMvm",
        "colab_type": "text"
      },
      "source": [
        "**Explanation:** The t value for beta 3 is **2.1199** and the confidence intreval is from **2.8793 to 3.4414**."
      ]
    },
    {
      "cell_type": "code",
      "metadata": {
        "id": "SsG0lWQdzKYE",
        "colab_type": "code",
        "colab": {
          "base_uri": "https://localhost:8080/",
          "height": 34
        },
        "outputId": "7acd3457-0af3-435f-d551-8f0708e0c1eb"
      },
      "source": [
        "# Calculation of Confidence Interval For Beta4\n",
        "j = 3\n",
        "\n",
        "Cjj = iX[j,j] \n",
        "\n",
        "stdE = np.sqrt(Cjj*sigma2)  # Standard error calculation\n",
        "\n",
        "tval = st.t.ppf(1-0.025, df)  # T value calculation\n",
        "\n",
        "#Calculate confidence interval\n",
        "CI_lower = coef[j] -(tval*stdE)  # Lower Bound C.I. calculation\n",
        "CI_upper = coef[j] + (tval*stdE)   # Upper Bound C.I. calculation\n",
        "print (f'{tval},{CI_lower},{CI_upper}')"
      ],
      "execution_count": 14,
      "outputs": [
        {
          "output_type": "stream",
          "text": [
            "2.1199052992210112,[[-2.47342954]],[[-1.23115725]]\n"
          ],
          "name": "stdout"
        }
      ]
    },
    {
      "cell_type": "markdown",
      "metadata": {
        "id": "j_ftXkLz0CVA",
        "colab_type": "text"
      },
      "source": [
        "**Explanation:** The t value for beta 4 is **2.1199** and the confidence intreval is from **-2.4734 to -1.2312**.\n",
        "Hence, since all the beta confidence interval values does not contain zeros, it means there is a significant different between the groups features."
      ]
    },
    {
      "cell_type": "markdown",
      "metadata": {
        "id": "V6me_7737300",
        "colab_type": "text"
      },
      "source": [
        "**(3) Calculation of R^2, F test and T test**"
      ]
    },
    {
      "cell_type": "code",
      "metadata": {
        "id": "P8A1pe_hzpww",
        "colab_type": "code",
        "colab": {
          "base_uri": "https://localhost:8080/",
          "height": 85
        },
        "outputId": "0123b0f8-3863-4036-b48d-0769f2e07124"
      },
      "source": [
        "# Calculation of R^2\n",
        "yb = np.mean(y)\n",
        "SST = sum( np.asarray(y - yb)**2)\n",
        "\n",
        "SSR = sum(np.asarray(yhat - yb)**2)\n",
        "\n",
        "SSE = sum(np.asarray(y - yhat)**2)\n",
        "\n",
        "R2 = SSR / SST \n",
        "(SST, SSR, SSE, R2)"
      ],
      "execution_count": 15,
      "outputs": [
        {
          "output_type": "execute_result",
          "data": {
            "text/plain": [
              "(array([701.00514651]),\n",
              " array([695.94779875]),\n",
              " array([5.05734776]),\n",
              " array([0.99278558]))"
            ]
          },
          "metadata": {
            "tags": []
          },
          "execution_count": 15
        }
      ]
    },
    {
      "cell_type": "markdown",
      "metadata": {
        "id": "umsz1fwdC4nB",
        "colab_type": "text"
      },
      "source": [
        "**Explanation**: The SST value is 701.0052, SSR value is 695.9478, SSE value is 5.0574 and **R^2 is 0.9928.** This means that 99.28% of the variation in the data is explained by the model."
      ]
    },
    {
      "cell_type": "markdown",
      "metadata": {
        "id": "FsAdbBOXGb5X",
        "colab_type": "text"
      },
      "source": [
        "**Calculation of F test**"
      ]
    },
    {
      "cell_type": "code",
      "metadata": {
        "id": "6qOwu3DC_xdY",
        "colab_type": "code",
        "colab": {
          "base_uri": "https://localhost:8080/",
          "height": 34
        },
        "outputId": "e515b35f-d99b-4b0e-cc3f-89047861f42e"
      },
      "source": [
        "dfn = 3      # Numerator Degree of Freedom\n",
        "dfd = N-3-1  # Denominator Degree of Freedom\n",
        "\n",
        "num = SSR / dfn\n",
        "dem = SSE / dfd\n",
        "Fval = num/dem     # F test value\n",
        "cval = st.f.ppf(1-0.05, dfn, dfd)  # Critical value \n",
        "pval = 1 - st.f.cdf(Fval, dfn, dfd) # P value\n",
        "print (f\" The F test value is {Fval} with a p value: {pval} at critical value {cval}\")\n"
      ],
      "execution_count": 16,
      "outputs": [
        {
          "output_type": "stream",
          "text": [
            " The F test value is [733.92651039] with a p value: [1.11022302e-16] at critical value 3.238871517453585\n"
          ],
          "name": "stdout"
        }
      ]
    },
    {
      "cell_type": "markdown",
      "metadata": {
        "id": "g9WF7VJ3KZOf",
        "colab_type": "text"
      },
      "source": [
        "**Calculation of T test**"
      ]
    },
    {
      "cell_type": "code",
      "metadata": {
        "id": "U_R507KjG6dv",
        "colab_type": "code",
        "colab": {
          "base_uri": "https://localhost:8080/",
          "height": 408
        },
        "outputId": "1e69ac04-afde-4ee1-e4df-df83016a39c2"
      },
      "source": [
        "for j in range(1,4):      # For all three features x1,x2 and x3\n",
        "    print(f\"T test parameters for X{j} are :\")\n",
        "    stdE = np.sqrt(iX[j,j]*sigma2)\n",
        "    tval = (coef[j] - 0) / stdE\n",
        "    print('T value is', tval)\n",
        "    cval = st.t.ppf(1-0.05, df)    # At 0.05 significant level\n",
        "    print('Critical value is', cval)\n",
        "    pval = 1 - st.t.cdf(tval, df)\n",
        "    print('P value is', pval) \n",
        "    \n",
        "    if tval > cval:\n",
        "        print (f\"Since t-value is greater than critical value, we reject the \\n null hypothesis. Meaning there is a significant contribution from x{j} \")\n",
        "    else:\n",
        "        print(f\"No Significant contribution from x{j} to the model since t-value is less than critical value\")\n",
        "        \n",
        "    print('\\n')"
      ],
      "execution_count": 17,
      "outputs": [
        {
          "output_type": "stream",
          "text": [
            "T test parameters for X1 are :\n",
            "T value is [[35.47327536]]\n",
            "Critical value is 1.74588367627624\n",
            "P value is [[0.]]\n",
            "Since t-value is greater than critical value, we reject the \n",
            " null hypothesis. Meaning there is a significant contribution from x1 \n",
            "\n",
            "\n",
            "T test parameters for X2 are :\n",
            "T value is [[23.83841624]]\n",
            "Critical value is 1.74588367627624\n",
            "P value is [[3.14193116e-14]]\n",
            "Since t-value is greater than critical value, we reject the \n",
            " null hypothesis. Meaning there is a significant contribution from x2 \n",
            "\n",
            "\n",
            "T test parameters for X3 are :\n",
            "T value is [[-6.32178086]]\n",
            "Critical value is 1.74588367627624\n",
            "P value is [[0.99999492]]\n",
            "No Significant contribution from x3 to the model since t-value is less than critical value\n",
            "\n",
            "\n"
          ],
          "name": "stdout"
        }
      ]
    },
    {
      "cell_type": "markdown",
      "metadata": {
        "id": "nldoVZYWXRu6",
        "colab_type": "text"
      },
      "source": [
        "**(4) Randomly assign testing points.**"
      ]
    },
    {
      "cell_type": "code",
      "metadata": {
        "id": "AIZsPkltLr2N",
        "colab_type": "code",
        "colab": {
          "base_uri": "https://localhost:8080/",
          "height": 68
        },
        "outputId": "f09c04cc-dfbc-431b-b4ff-141aef1289ee"
      },
      "source": [
        "# Randomly assigning testing points \n",
        "x1 = 3.5 \n",
        "x2 = 2.2\n",
        "x3= 4.0\n",
        "\n",
        "# True value of Y based on the formula given\n",
        "random.seed(0) \n",
        "err = np.random.normal(0,0.5,(1,1))\n",
        "y_true =  5 + 4*x1 + 3*x2 - 2*x3 + err\n",
        "print('The true y value is', y_true)\n",
        "\n",
        "# Predicted Y\n",
        "X = np.array([1,x1,x2,x3])\n",
        "X = np.asmatrix(X)\n",
        "y_pred = X.dot(coef)\n",
        "print('The predicted value of y is', y_pred)\n",
        "\n",
        "# Hat Matrix\n",
        "iX = np.linalg.pinv((X.T).dot(X))\n",
        "Hat_matrix = X.dot(iX).dot(X.T)\n",
        "print('The Hat Matrix is', Hat_matrix)"
      ],
      "execution_count": 18,
      "outputs": [
        {
          "output_type": "stream",
          "text": [
            "The true y value is [[18.17035791]]\n",
            "The predicted value of y is [[17.57115302]]\n",
            "The Hat Matrix is [[1.]]\n"
          ],
          "name": "stdout"
        }
      ]
    },
    {
      "cell_type": "markdown",
      "metadata": {
        "id": "0H315igLbrZh",
        "colab_type": "text"
      },
      "source": [
        "**Explanation:** There is not much difference between the true y value and the predicted value of y, as they are quite similar. The hat matrix is 1 which indicates the matrix of projection.\n",
        "Linear regression is an analytical technique that is used for prediction of a variable (dependent) value based on the value of another variable (independent). The linear regression is used to estimates the coefficients of the linear equation, that involves one or more predictor variables that best predict the value of the response variable."
      ]
    },
    {
      "cell_type": "markdown",
      "metadata": {
        "id": "TepWFiYmXoRY",
        "colab_type": "text"
      },
      "source": [
        "**(5) Software Output Comparison.**"
      ]
    },
    {
      "cell_type": "code",
      "metadata": {
        "id": "UQxMQPUNXuqt",
        "colab_type": "code",
        "colab": {
          "base_uri": "https://localhost:8080/",
          "height": 51
        },
        "outputId": "166be793-83e2-4764-be2f-a866b9a14b0b"
      },
      "source": [
        "reg = LinearRegression().fit(X0, y)\n",
        "coef = np.concatenate((np.asmatrix(reg.intercept_).T, reg.coef_), axis = 1)\n",
        "print(\"the fitted coef is\")\n",
        "print(coef) "
      ],
      "execution_count": 19,
      "outputs": [
        {
          "output_type": "stream",
          "text": [
            "the fitted coef is\n",
            "[[ 4.36479719  3.90364322  3.1603537  -1.8522934 ]]\n"
          ],
          "name": "stdout"
        }
      ]
    },
    {
      "cell_type": "code",
      "metadata": {
        "id": "P3tovhfterXG",
        "colab_type": "code",
        "colab": {
          "base_uri": "https://localhost:8080/",
          "height": 34
        },
        "outputId": "588513a9-970c-4ead-82a0-9d69efc5485a"
      },
      "source": [
        "yp = reg.predict(X0)\n",
        "# total sum squares\n",
        "# SST\n",
        "dif = np.square(y - np.mean(y) )\n",
        "SST = sum(dif)\n",
        "# SSE\n",
        "dif = np.square( y - yp )\n",
        "SSE = sum(dif)\n",
        "# SSR\n",
        "dif = np.square( yp - np.mean(y) )\n",
        "SSR = sum(dif)\n",
        "(SST, SSR, SSE)"
      ],
      "execution_count": 20,
      "outputs": [
        {
          "output_type": "execute_result",
          "data": {
            "text/plain": [
              "(matrix([[701.00514651]]), array([695.94779875]), matrix([[5.05734776]]))"
            ]
          },
          "metadata": {
            "tags": []
          },
          "execution_count": 20
        }
      ]
    },
    {
      "cell_type": "markdown",
      "metadata": {
        "id": "_vMCJif4fwAE",
        "colab_type": "text"
      },
      "source": [
        "**Explanation:** Compared to the the previously generated outputs (i.e. intercept, Coefficient of beta (slope), SST, SSE, and SSR) are all the same as the ones generated by the software package. This is a form of validating the model that was built. Hence, we can say our model is valid."
      ]
    },
    {
      "cell_type": "markdown",
      "metadata": {
        "id": "sDzwYTQOivUz",
        "colab_type": "text"
      },
      "source": [
        "**Q2.** Simulation of 𝑦=5+4𝑥1+3𝑥2−2𝑥3+𝑥4+𝜀, with 𝑥4=𝑥1+2𝑥2 and 𝑁=50. Everything else is the same as Q1. \n",
        "Since, x4 = x1+2x2, substitute for x4:\n",
        "\n",
        "y = 5 + 4𝑥1 + 3𝑥2 − 2𝑥3 + (x1+2x2)+ 𝜀\n",
        "\n",
        "y = 5 + 5x1 +5x2 - 2x3 + 𝜀"
      ]
    },
    {
      "cell_type": "code",
      "metadata": {
        "id": "v86cn18vpmk9",
        "colab_type": "code",
        "colab": {
          "base_uri": "https://localhost:8080/",
          "height": 68
        },
        "outputId": "5f615b5a-a5ac-44e7-9594-f8bcae0bb7b3"
      },
      "source": [
        "# Data Preparation \n",
        "N = 50\n",
        "\n",
        "random.seed(5)\n",
        "err = np.random.normal(0, 0.5, (N,1))  \n",
        "\n",
        "random.seed(5)\n",
        "X1 = np.random.uniform(0, 4, (N, 1))    \n",
        "\n",
        "random.seed(5)\n",
        "X2 = np.random.uniform(1, 4, (N, 1))\n",
        "\n",
        "random.seed(5)\n",
        "X3 = np.random.normal(3, 0.4, (N, 1))    \n",
        "\n",
        "X0 = np.concatenate((X1, X2, X3), axis = 1)\n",
        "\n",
        "X = np.concatenate((np.ones((N,1)), X0), axis = 1) \n",
        "\n",
        "beta = np.array([5, 5, 5, -2])           \n",
        "beta = np.asmatrix(beta)                 \n",
        "\n",
        "y = X.dot(beta.T) + err\n",
        "y[:3]  "
      ],
      "execution_count": 21,
      "outputs": [
        {
          "output_type": "execute_result",
          "data": {
            "text/plain": [
              "matrix([[18.48857337],\n",
              "        [28.92493427],\n",
              "        [ 6.85972758]])"
            ]
          },
          "metadata": {
            "tags": []
          },
          "execution_count": 21
        }
      ]
    },
    {
      "cell_type": "markdown",
      "metadata": {
        "id": "wWbrL_5DrMqz",
        "colab_type": "text"
      },
      "source": [
        "**(1) Calculation of Beta hat Using the formula in Q2**"
      ]
    },
    {
      "cell_type": "code",
      "metadata": {
        "id": "XMwqTObnqzpJ",
        "colab_type": "code",
        "colab": {
          "base_uri": "https://localhost:8080/",
          "height": 85
        },
        "outputId": "08fba3ec-b6a6-4f88-e8f4-e061acd8fc71"
      },
      "source": [
        "# Coefficient Estimate\n",
        "iX = np.linalg.inv(X.T.dot(X))\n",
        "coef = iX.dot(X.T).dot(y)\n",
        "print(f'{coef}')    # To view the values of beta hat estimate"
      ],
      "execution_count": 22,
      "outputs": [
        {
          "output_type": "stream",
          "text": [
            "[[ 4.97831827]\n",
            " [ 4.98021766]\n",
            " [ 5.11000053]\n",
            " [-2.09289792]]\n"
          ],
          "name": "stdout"
        }
      ]
    },
    {
      "cell_type": "markdown",
      "metadata": {
        "id": "Bqadu02isJN2",
        "colab_type": "text"
      },
      "source": [
        "**Explanation:** As shown by the output of the command \"print (f'{coef}')\" the estimate of the coefficient of Beta hat is very close to the coefficients in the formula but not exactly. Once the value of x4 has been substituted in the original equation, our x features went back to the original 3 features (i.e. x1, x2, x3) with different value for slope as defined in the simulation above (Q2). Thus, the beta hat was calculated using the formula in Q2 after substitution."
      ]
    },
    {
      "cell_type": "markdown",
      "metadata": {
        "id": "xM91P1Z5uanD",
        "colab_type": "text"
      },
      "source": [
        "**(2) Implementation of Subset Selection.**"
      ]
    },
    {
      "cell_type": "code",
      "metadata": {
        "id": "uUm6Ese-u2En",
        "colab_type": "code",
        "colab": {
          "base_uri": "https://localhost:8080/",
          "height": 204
        },
        "outputId": "c9266889-6971-484d-ebc8-7f850066b2f9"
      },
      "source": [
        "X = pd.DataFrame(data=X0,columns= ['x1','x2','x3'])  #Covertion to dataframe to easy subsetting\n",
        "X.head()  #check first 5 rows"
      ],
      "execution_count": 23,
      "outputs": [
        {
          "output_type": "execute_result",
          "data": {
            "text/html": [
              "<div>\n",
              "<style scoped>\n",
              "    .dataframe tbody tr th:only-of-type {\n",
              "        vertical-align: middle;\n",
              "    }\n",
              "\n",
              "    .dataframe tbody tr th {\n",
              "        vertical-align: top;\n",
              "    }\n",
              "\n",
              "    .dataframe thead th {\n",
              "        text-align: right;\n",
              "    }\n",
              "</style>\n",
              "<table border=\"1\" class=\"dataframe\">\n",
              "  <thead>\n",
              "    <tr style=\"text-align: right;\">\n",
              "      <th></th>\n",
              "      <th>x1</th>\n",
              "      <th>x2</th>\n",
              "      <th>x3</th>\n",
              "    </tr>\n",
              "  </thead>\n",
              "  <tbody>\n",
              "    <tr>\n",
              "      <th>0</th>\n",
              "      <td>0.605994</td>\n",
              "      <td>3.214577</td>\n",
              "      <td>3.167961</td>\n",
              "    </tr>\n",
              "    <tr>\n",
              "      <th>1</th>\n",
              "      <td>2.345212</td>\n",
              "      <td>3.788628</td>\n",
              "      <td>3.291183</td>\n",
              "    </tr>\n",
              "    <tr>\n",
              "      <th>2</th>\n",
              "      <td>0.256905</td>\n",
              "      <td>1.379459</td>\n",
              "      <td>3.000287</td>\n",
              "    </tr>\n",
              "    <tr>\n",
              "      <th>3</th>\n",
              "      <td>3.504191</td>\n",
              "      <td>2.378750</td>\n",
              "      <td>2.906148</td>\n",
              "    </tr>\n",
              "    <tr>\n",
              "      <th>4</th>\n",
              "      <td>0.205759</td>\n",
              "      <td>1.324561</td>\n",
              "      <td>3.021097</td>\n",
              "    </tr>\n",
              "  </tbody>\n",
              "</table>\n",
              "</div>"
            ],
            "text/plain": [
              "         x1        x2        x3\n",
              "0  0.605994  3.214577  3.167961\n",
              "1  2.345212  3.788628  3.291183\n",
              "2  0.256905  1.379459  3.000287\n",
              "3  3.504191  2.378750  2.906148\n",
              "4  0.205759  1.324561  3.021097"
            ]
          },
          "metadata": {
            "tags": []
          },
          "execution_count": 23
        }
      ]
    },
    {
      "cell_type": "markdown",
      "metadata": {
        "id": "RiUa3TJH05Io",
        "colab_type": "text"
      },
      "source": [
        "**Explanation:** To simplify the matrix X, the software package used converted the X array to a dataframe with the column names of the three features (i.e. X1, X2, X3) as shown in the result above for the first five rows. Afterwards, we defined a function to fit the Linear Regression and return RSS and R^2 values as shown below:"
      ]
    },
    {
      "cell_type": "code",
      "metadata": {
        "id": "9v1pjEck0kE4",
        "colab_type": "code",
        "colab": {}
      },
      "source": [
        "def fit_linear_regression(X,Y):\n",
        "\n",
        "    # To fit linear regression model and return RSS and R^2 values\n",
        "    model_k = LinearRegression(fit_intercept = True)\n",
        "    model_k.fit(X,Y)\n",
        "    RSS = mean_squared_error(Y,model_k.predict(X)) * len(Y)\n",
        "    R_squared = model_k.score(X,Y)\n",
        "    return RSS, R_squared"
      ],
      "execution_count": 24,
      "outputs": []
    },
    {
      "cell_type": "code",
      "metadata": {
        "id": "vqPkPo2-2o6d",
        "colab_type": "code",
        "colab": {
          "base_uri": "https://localhost:8080/",
          "height": 100,
          "referenced_widgets": [
            "eab8c05bf75b4468b7f0bac44b3a5715",
            "8057ba34225e423d9ce36c8a4d7af143",
            "f9ebf6b2423741fdae952952bc0b83b4",
            "887b0a5aef1c4415bb36e03ed33f671c",
            "f5a3d9e811d14b699d94709e3c92fb6d",
            "d49c3e1fa17a44869b35d19a20404097",
            "5f00c6899930406d9da8e156e046d644",
            "83e72f7b0688447088a2537a5bb7431b"
          ]
        },
        "outputId": "6b2e00ed-97f0-421a-e242-2c868381d029"
      },
      "source": [
        "# Implementing the best subset selection\n",
        "from tqdm import tnrange, tqdm_notebook # Import tqdm for the progress bar\n",
        "\n",
        "# Variables Initialization\n",
        "k = 3                       # The 3 features in X\n",
        "RSS_list, R_squared_list, feature_list = [],[], []\n",
        "numb_features = []\n",
        "\n",
        "for k in tnrange(1,len(X.columns)+ 1, desc = 'Loop...'):  # Looping over k = 1 to k = 3 features in X\n",
        "  \n",
        "    for combo in itertools.combinations(X.columns,k):    # Looping over all possible combinations: from 3 choose k\n",
        "        tmp_result = fit_linear_regression(X[list(combo)],y)   # Store temporary result \n",
        "        RSS_list.append(tmp_result[0])                         # Append lists\n",
        "        R_squared_list.append(tmp_result[1])\n",
        "        feature_list.append(combo)\n",
        "        numb_features.append(len(combo))   \n",
        "\n",
        "# Store in DataFrame\n",
        "df = pd.DataFrame({'numb_features': numb_features,'RSS': RSS_list, 'R_squared':R_squared_list,'features':feature_list})"
      ],
      "execution_count": 25,
      "outputs": [
        {
          "output_type": "stream",
          "text": [
            "/usr/local/lib/python3.6/dist-packages/ipykernel_launcher.py:9: TqdmDeprecationWarning: Please use `tqdm.notebook.trange` instead of `tqdm.tnrange`\n",
            "  if __name__ == '__main__':\n"
          ],
          "name": "stderr"
        },
        {
          "output_type": "display_data",
          "data": {
            "application/vnd.jupyter.widget-view+json": {
              "model_id": "eab8c05bf75b4468b7f0bac44b3a5715",
              "version_minor": 0,
              "version_major": 2
            },
            "text/plain": [
              "HBox(children=(FloatProgress(value=0.0, description='Loop...', max=3.0, style=ProgressStyle(description_width=…"
            ]
          },
          "metadata": {
            "tags": []
          }
        },
        {
          "output_type": "stream",
          "text": [
            "\n"
          ],
          "name": "stdout"
        }
      ]
    },
    {
      "cell_type": "code",
      "metadata": {
        "id": "S_KofgMl6uNs",
        "colab_type": "code",
        "colab": {
          "base_uri": "https://localhost:8080/",
          "height": 266
        },
        "outputId": "2ece59f8-264d-4e20-b893-59b6376b49ee"
      },
      "source": [
        "df"
      ],
      "execution_count": 26,
      "outputs": [
        {
          "output_type": "execute_result",
          "data": {
            "text/html": [
              "<div>\n",
              "<style scoped>\n",
              "    .dataframe tbody tr th:only-of-type {\n",
              "        vertical-align: middle;\n",
              "    }\n",
              "\n",
              "    .dataframe tbody tr th {\n",
              "        vertical-align: top;\n",
              "    }\n",
              "\n",
              "    .dataframe thead th {\n",
              "        text-align: right;\n",
              "    }\n",
              "</style>\n",
              "<table border=\"1\" class=\"dataframe\">\n",
              "  <thead>\n",
              "    <tr style=\"text-align: right;\">\n",
              "      <th></th>\n",
              "      <th>numb_features</th>\n",
              "      <th>RSS</th>\n",
              "      <th>R_squared</th>\n",
              "      <th>features</th>\n",
              "    </tr>\n",
              "  </thead>\n",
              "  <tbody>\n",
              "    <tr>\n",
              "      <th>0</th>\n",
              "      <td>1</td>\n",
              "      <td>1162.969769</td>\n",
              "      <td>0.591034</td>\n",
              "      <td>(x1,)</td>\n",
              "    </tr>\n",
              "    <tr>\n",
              "      <th>1</th>\n",
              "      <td>1</td>\n",
              "      <td>1952.756299</td>\n",
              "      <td>0.313301</td>\n",
              "      <td>(x2,)</td>\n",
              "    </tr>\n",
              "    <tr>\n",
              "      <th>2</th>\n",
              "      <td>1</td>\n",
              "      <td>2791.905562</td>\n",
              "      <td>0.018208</td>\n",
              "      <td>(x3,)</td>\n",
              "    </tr>\n",
              "    <tr>\n",
              "      <th>3</th>\n",
              "      <td>2</td>\n",
              "      <td>77.655489</td>\n",
              "      <td>0.972692</td>\n",
              "      <td>(x1, x2)</td>\n",
              "    </tr>\n",
              "    <tr>\n",
              "      <th>4</th>\n",
              "      <td>2</td>\n",
              "      <td>1130.335642</td>\n",
              "      <td>0.602510</td>\n",
              "      <td>(x1, x3)</td>\n",
              "    </tr>\n",
              "    <tr>\n",
              "      <th>5</th>\n",
              "      <td>2</td>\n",
              "      <td>1866.359614</td>\n",
              "      <td>0.343683</td>\n",
              "      <td>(x2, x3)</td>\n",
              "    </tr>\n",
              "    <tr>\n",
              "      <th>6</th>\n",
              "      <td>3</td>\n",
              "      <td>14.573355</td>\n",
              "      <td>0.994875</td>\n",
              "      <td>(x1, x2, x3)</td>\n",
              "    </tr>\n",
              "  </tbody>\n",
              "</table>\n",
              "</div>"
            ],
            "text/plain": [
              "   numb_features          RSS  R_squared      features\n",
              "0              1  1162.969769   0.591034         (x1,)\n",
              "1              1  1952.756299   0.313301         (x2,)\n",
              "2              1  2791.905562   0.018208         (x3,)\n",
              "3              2    77.655489   0.972692      (x1, x2)\n",
              "4              2  1130.335642   0.602510      (x1, x3)\n",
              "5              2  1866.359614   0.343683      (x2, x3)\n",
              "6              3    14.573355   0.994875  (x1, x2, x3)"
            ]
          },
          "metadata": {
            "tags": []
          },
          "execution_count": 26
        }
      ]
    },
    {
      "cell_type": "code",
      "metadata": {
        "id": "scgr0UPe7Qgu",
        "colab_type": "code",
        "colab": {
          "base_uri": "https://localhost:8080/",
          "height": 102
        },
        "outputId": "11e547c8-9d87-4c8b-992a-a5e653aac706"
      },
      "source": [
        "best_model = df.loc[df['RSS'].values.argmin()] # Choosing the best model (Model with the lowest RSS value and invariably the highest R^2)\n",
        "best_model"
      ],
      "execution_count": 27,
      "outputs": [
        {
          "output_type": "execute_result",
          "data": {
            "text/plain": [
              "numb_features               3\n",
              "RSS                   14.5734\n",
              "R_squared            0.994875\n",
              "features         (x1, x2, x3)\n",
              "Name: 6, dtype: object"
            ]
          },
          "metadata": {
            "tags": []
          },
          "execution_count": 27
        }
      ]
    },
    {
      "cell_type": "markdown",
      "metadata": {
        "id": "nyyGIS6Z7m-k",
        "colab_type": "text"
      },
      "source": [
        "**Explanation:** This means that the best model is the one that includes all three features (i.e. X1, X2, X3) as the model account for 99.49% of the variation in the data based on the R^2 output and RSS value of 14.5734 which has the lowest residual sum of squares."
      ]
    },
    {
      "cell_type": "code",
      "metadata": {
        "id": "AZysOpVf8qkU",
        "colab_type": "code",
        "colab": {
          "base_uri": "https://localhost:8080/",
          "height": 142
        },
        "outputId": "6acb241f-54c1-4bfb-de21-a50a6d47a408"
      },
      "source": [
        "# Choosing the best subset for each number of features\n",
        "df[df['RSS'] ==df.groupby('numb_features')['RSS'].transform('min')] "
      ],
      "execution_count": 28,
      "outputs": [
        {
          "output_type": "execute_result",
          "data": {
            "text/html": [
              "<div>\n",
              "<style scoped>\n",
              "    .dataframe tbody tr th:only-of-type {\n",
              "        vertical-align: middle;\n",
              "    }\n",
              "\n",
              "    .dataframe tbody tr th {\n",
              "        vertical-align: top;\n",
              "    }\n",
              "\n",
              "    .dataframe thead th {\n",
              "        text-align: right;\n",
              "    }\n",
              "</style>\n",
              "<table border=\"1\" class=\"dataframe\">\n",
              "  <thead>\n",
              "    <tr style=\"text-align: right;\">\n",
              "      <th></th>\n",
              "      <th>numb_features</th>\n",
              "      <th>RSS</th>\n",
              "      <th>R_squared</th>\n",
              "      <th>features</th>\n",
              "    </tr>\n",
              "  </thead>\n",
              "  <tbody>\n",
              "    <tr>\n",
              "      <th>0</th>\n",
              "      <td>1</td>\n",
              "      <td>1162.969769</td>\n",
              "      <td>0.591034</td>\n",
              "      <td>(x1,)</td>\n",
              "    </tr>\n",
              "    <tr>\n",
              "      <th>3</th>\n",
              "      <td>2</td>\n",
              "      <td>77.655489</td>\n",
              "      <td>0.972692</td>\n",
              "      <td>(x1, x2)</td>\n",
              "    </tr>\n",
              "    <tr>\n",
              "      <th>6</th>\n",
              "      <td>3</td>\n",
              "      <td>14.573355</td>\n",
              "      <td>0.994875</td>\n",
              "      <td>(x1, x2, x3)</td>\n",
              "    </tr>\n",
              "  </tbody>\n",
              "</table>\n",
              "</div>"
            ],
            "text/plain": [
              "   numb_features          RSS  R_squared      features\n",
              "0              1  1162.969769   0.591034         (x1,)\n",
              "3              2    77.655489   0.972692      (x1, x2)\n",
              "6              3    14.573355   0.994875  (x1, x2, x3)"
            ]
          },
          "metadata": {
            "tags": []
          },
          "execution_count": 28
        }
      ]
    },
    {
      "cell_type": "markdown",
      "metadata": {
        "id": "yUzjeOuh8_Nb",
        "colab_type": "text"
      },
      "source": [
        "**Explanation:** To select the best subsets for each number of features, we will use the RSS as the criteria as was done in choosing the best model above. As shown in the result if the code in line [128], the obvious choices are feature X1 if we are to pick just one feature, and features X1, X2 if we were to pick a subset of two, and finally features X1, X2, X3 if we are looking at picking a subset of three variables. These features were selected based on their RSS value, and concesquentially their respective R^2."
      ]
    },
    {
      "cell_type": "markdown",
      "metadata": {
        "id": "CM2xpqxHuz2H",
        "colab_type": "text"
      },
      "source": [
        "**Implementation of Forward/Backward Selection.**"
      ]
    },
    {
      "cell_type": "code",
      "metadata": {
        "id": "LMvyncbgr_SI",
        "colab_type": "code",
        "colab": {
          "base_uri": "https://localhost:8080/",
          "height": 68
        },
        "outputId": "9aa33197-d520-42ac-c212-17829e1c3d41"
      },
      "source": [
        "# Variables Initialization\n",
        "k = 3\n",
        "Remaining_features = list(X.columns.values)\n",
        "features = []\n",
        "RSS_list, R_squared_list = [np.inf], [np.inf] # Due to 1 indexing of the loop...\n",
        "features_list = dict()\n",
        "\n",
        "for i in range(1,k+1):\n",
        "    best_RSS = np.inf\n",
        "    \n",
        "    for combo in itertools.combinations(Remaining_features,1):\n",
        "\n",
        "            RSS = fit_linear_regression(X[list(combo) + features],y)   # For storing temporary result \n",
        "\n",
        "            if RSS[0] < best_RSS:\n",
        "                best_RSS = RSS[0]\n",
        "                best_R_squared = RSS[1] \n",
        "                best_feature = combo[0]\n",
        "\n",
        "    # Updating variables for the next loop\n",
        "    features.append(best_feature)\n",
        "    Remaining_features.remove(best_feature)\n",
        "    \n",
        "    # To save values for plotting\n",
        "    RSS_list.append(best_RSS)\n",
        "    R_squared_list.append(best_R_squared)\n",
        "    features_list[i] = features.copy()\n",
        "\n",
        "print('Forward stepwise subset selection')\n",
        "print('Number of features |', 'Features |', 'RSS')\n",
        "display([(i,features_list[i], round(RSS_list[i])) for i in range(1,4)])"
      ],
      "execution_count": 29,
      "outputs": [
        {
          "output_type": "stream",
          "text": [
            "Forward stepwise subset selection\n",
            "Number of features | Features | RSS\n"
          ],
          "name": "stdout"
        },
        {
          "output_type": "display_data",
          "data": {
            "text/plain": [
              "[(1, ['x1'], 1163.0), (2, ['x1', 'x2'], 78.0), (3, ['x1', 'x2', 'x3'], 15.0)]"
            ]
          },
          "metadata": {
            "tags": []
          }
        }
      ]
    },
    {
      "cell_type": "markdown",
      "metadata": {
        "id": "WsTKBdEX_g1k",
        "colab_type": "text"
      },
      "source": [
        "**Explanation:** The result of the stepwise selection shows that the model improved from when only feature X1 was included to the addition of X2, and invariably including X3 in the model. Thus, based on the RSS value, the best model to select or adopt is the one that includes all of the three features as they all best predicts 'y'. This conclusion is in line with the subset selection explained above."
      ]
    },
    {
      "cell_type": "markdown",
      "metadata": {
        "id": "xoDcrWNYu-Ys",
        "colab_type": "text"
      },
      "source": [
        "**Implementation of Ridge Regression.**\n"
      ]
    },
    {
      "cell_type": "code",
      "metadata": {
        "id": "YN_AGxyYvFri",
        "colab_type": "code",
        "colab": {
          "base_uri": "https://localhost:8080/",
          "height": 34
        },
        "outputId": "ea812022-bc24-453f-f605-9ed6a3598c5a"
      },
      "source": [
        "X_train,X_test,y_train,y_test = train_test_split(X,y, test_size=0.4, random_state=1)  # To split data into training and testing set\n",
        "print(f'X train dataset are {X_train.shape} and Y train dataset are {y_train.shape}') # To check the size of the training dataset"
      ],
      "execution_count": 30,
      "outputs": [
        {
          "output_type": "stream",
          "text": [
            "X train dataset are (30, 3) and Y train dataset are (30, 1)\n"
          ],
          "name": "stdout"
        }
      ]
    },
    {
      "cell_type": "markdown",
      "metadata": {
        "id": "OJc7uwxoH4fH",
        "colab_type": "text"
      },
      "source": [
        "**Explanation:** First, we seperated the data into training and testing. 40% of the data was assigned to the testing set, while the remaining 60% was used for the training data as shown in the result of the code in line [131]. Next we performed a ridge model fitting using the random value of Hyperparameter, Alpha as shown below:"
      ]
    },
    {
      "cell_type": "code",
      "metadata": {
        "id": "HIB9Y3O2Dssm",
        "colab_type": "code",
        "colab": {
          "base_uri": "https://localhost:8080/",
          "height": 136
        },
        "outputId": "fcdbd13d-ca97-4f56-9b18-be9e573973ac"
      },
      "source": [
        "# Ridge model fitting, using Hyperparameter random values, Alpha\n",
        "ridge = Ridge(alpha = 1.0, normalize = True)   # For Alpha = 1.0 , to initialize the ridge regressor\n",
        "ridge.fit(X_train, y_train)             # Fit a ridge regression on the training data\n",
        "pred = ridge.predict(X_test) \n",
        "print(f'Mean squared error is {mean_squared_error(y_test, pred)}')  # To view the mean square error \n",
        "print(f'The R^2 value at alpha 1.0 is {ridge.score(X_train, y_train)}')\n",
        "y_test[:5]"
      ],
      "execution_count": 31,
      "outputs": [
        {
          "output_type": "stream",
          "text": [
            "Mean squared error is 16.799757522722096\n",
            "The R^2 value at alpha 1.0 is 0.7485018541759035\n"
          ],
          "name": "stdout"
        },
        {
          "output_type": "execute_result",
          "data": {
            "text/plain": [
              "matrix([[17.44140717],\n",
              "        [17.38582376],\n",
              "        [29.07922637],\n",
              "        [13.15849997],\n",
              "        [ 6.85972758]])"
            ]
          },
          "metadata": {
            "tags": []
          },
          "execution_count": 31
        }
      ]
    },
    {
      "cell_type": "code",
      "metadata": {
        "id": "pPI5CePiHFm3",
        "colab_type": "code",
        "colab": {
          "base_uri": "https://localhost:8080/",
          "height": 51
        },
        "outputId": "e7494ba8-6002-4ed4-d5d1-8d7cb2b14e2c"
      },
      "source": [
        "ridge1 = Ridge(alpha = 2.0, normalize = True)     # For Alpha = 2.0 , to initialize the ridge regressor\n",
        "ridge1.fit(X_train, y_train)             # Fit a ridge regression on the training data\n",
        "pred1 = ridge1.predict(X_test)\n",
        "print(f'Mean squared error is {mean_squared_error(y_test, pred1)}')  # To view the mean square error \n",
        "print(f'The R^2 value at alpha 2.0 is {ridge1.score(X_train, y_train)}')"
      ],
      "execution_count": 32,
      "outputs": [
        {
          "output_type": "stream",
          "text": [
            "Mean squared error is 29.360153303899967\n",
            "The R^2 value at alpha 2.0 is 0.5554435288482285\n"
          ],
          "name": "stdout"
        }
      ]
    },
    {
      "cell_type": "code",
      "metadata": {
        "id": "dM1_ILQiJV0J",
        "colab_type": "code",
        "colab": {
          "base_uri": "https://localhost:8080/",
          "height": 442
        },
        "outputId": "1847464e-d1b4-44cf-e7bc-e0647642888b"
      },
      "source": [
        "# Generate range of Alpha values to perform cross-validation ridge\n",
        "alphas = 10**np.linspace(10,-2,100)*0.5     # To generate range of hyperparameters, alpha\n",
        "alphas"
      ],
      "execution_count": 33,
      "outputs": [
        {
          "output_type": "execute_result",
          "data": {
            "text/plain": [
              "array([5.00000000e+09, 3.78231664e+09, 2.86118383e+09, 2.16438064e+09,\n",
              "       1.63727458e+09, 1.23853818e+09, 9.36908711e+08, 7.08737081e+08,\n",
              "       5.36133611e+08, 4.05565415e+08, 3.06795364e+08, 2.32079442e+08,\n",
              "       1.75559587e+08, 1.32804389e+08, 1.00461650e+08, 7.59955541e+07,\n",
              "       5.74878498e+07, 4.34874501e+07, 3.28966612e+07, 2.48851178e+07,\n",
              "       1.88246790e+07, 1.42401793e+07, 1.07721735e+07, 8.14875417e+06,\n",
              "       6.16423370e+06, 4.66301673e+06, 3.52740116e+06, 2.66834962e+06,\n",
              "       2.01850863e+06, 1.52692775e+06, 1.15506485e+06, 8.73764200e+05,\n",
              "       6.60970574e+05, 5.00000000e+05, 3.78231664e+05, 2.86118383e+05,\n",
              "       2.16438064e+05, 1.63727458e+05, 1.23853818e+05, 9.36908711e+04,\n",
              "       7.08737081e+04, 5.36133611e+04, 4.05565415e+04, 3.06795364e+04,\n",
              "       2.32079442e+04, 1.75559587e+04, 1.32804389e+04, 1.00461650e+04,\n",
              "       7.59955541e+03, 5.74878498e+03, 4.34874501e+03, 3.28966612e+03,\n",
              "       2.48851178e+03, 1.88246790e+03, 1.42401793e+03, 1.07721735e+03,\n",
              "       8.14875417e+02, 6.16423370e+02, 4.66301673e+02, 3.52740116e+02,\n",
              "       2.66834962e+02, 2.01850863e+02, 1.52692775e+02, 1.15506485e+02,\n",
              "       8.73764200e+01, 6.60970574e+01, 5.00000000e+01, 3.78231664e+01,\n",
              "       2.86118383e+01, 2.16438064e+01, 1.63727458e+01, 1.23853818e+01,\n",
              "       9.36908711e+00, 7.08737081e+00, 5.36133611e+00, 4.05565415e+00,\n",
              "       3.06795364e+00, 2.32079442e+00, 1.75559587e+00, 1.32804389e+00,\n",
              "       1.00461650e+00, 7.59955541e-01, 5.74878498e-01, 4.34874501e-01,\n",
              "       3.28966612e-01, 2.48851178e-01, 1.88246790e-01, 1.42401793e-01,\n",
              "       1.07721735e-01, 8.14875417e-02, 6.16423370e-02, 4.66301673e-02,\n",
              "       3.52740116e-02, 2.66834962e-02, 2.01850863e-02, 1.52692775e-02,\n",
              "       1.15506485e-02, 8.73764200e-03, 6.60970574e-03, 5.00000000e-03])"
            ]
          },
          "metadata": {
            "tags": []
          },
          "execution_count": 33
        }
      ]
    },
    {
      "cell_type": "code",
      "metadata": {
        "id": "nBuzqjmrLBG1",
        "colab_type": "code",
        "colab": {
          "base_uri": "https://localhost:8080/",
          "height": 34
        },
        "outputId": "0b40c8dc-0cb7-476a-9d7d-40639c160459"
      },
      "source": [
        "ridgecv = RidgeCV(alphas = alphas, scoring = 'neg_mean_squared_error', normalize = True)  # Using cross validation, determine the best hyperparameter\n",
        "ridgecv.fit(X_train, y_train)\n",
        "print(f'Best alpha value is {ridgecv.alpha_}')"
      ],
      "execution_count": 34,
      "outputs": [
        {
          "output_type": "stream",
          "text": [
            "Best alpha value is 0.005\n"
          ],
          "name": "stdout"
        }
      ]
    },
    {
      "cell_type": "code",
      "metadata": {
        "id": "YAajSkadMJRq",
        "colab_type": "code",
        "colab": {
          "base_uri": "https://localhost:8080/",
          "height": 51
        },
        "outputId": "80591d3c-8ca9-4431-ddf2-94cc9fa383b8"
      },
      "source": [
        "# Fit the Ridge regression using the best value of Alpha\n",
        "ridge2 = Ridge(alpha = 0.005, normalize = True)\n",
        "ridge2.fit(X_train, y_train)    # Fit a ridge regression on the training data\n",
        "pred2= ridge2.predict(X_test)\n",
        "print(f'Mean squared error is {mean_squared_error(y_test, pred2)}')  # To view the mean square error on predicted data\n",
        "print(f'The R^2 value at alpha 0.005 is {ridge2.score(X_train, y_train)}')"
      ],
      "execution_count": 35,
      "outputs": [
        {
          "output_type": "stream",
          "text": [
            "Mean squared error is 0.39298729335796523\n",
            "The R^2 value at alpha 0.005 is 0.9956165642817498\n"
          ],
          "name": "stdout"
        }
      ]
    },
    {
      "cell_type": "markdown",
      "metadata": {
        "id": "wQap0yMCP_03",
        "colab_type": "text"
      },
      "source": [
        "**Explanation:** Using Hyperparameter random values, we generated a range of Alpha values to perform cross-validation ridge. The cross validation was done on the predicted data to determine the **best alpha value** which is **0.005.** Also, to check the fitness of the ridge regression using the best alpha value, the **mean squared error** is **0.3930** and the **r squared value** is **0.9956.** Which implies that at alpha 0.005, the model fits 99.56% of the data. Invariably, 99.56% of the variation in the data is explained by the model."
      ]
    },
    {
      "cell_type": "markdown",
      "metadata": {
        "id": "hwHp-q1MvGnQ",
        "colab_type": "text"
      },
      "source": [
        "**Implementation of Lasso Regression.**"
      ]
    },
    {
      "cell_type": "code",
      "metadata": {
        "id": "IgGscfOjW7Fb",
        "colab_type": "code",
        "colab": {
          "base_uri": "https://localhost:8080/",
          "height": 300
        },
        "outputId": "655f5cf4-73fb-4cd0-e285-c0706c75a30d"
      },
      "source": [
        "lasso = Lasso(max_iter = 10000, normalize = True)\n",
        "coefs = []\n",
        "\n",
        "for a in alphas:                      # To search for the best value of alpha without cross validating\n",
        "    lasso.set_params(alpha=a)\n",
        "    lasso.fit(scale(X_train), y_train)\n",
        "    coefs.append(lasso.coef_)\n",
        "    \n",
        "ax = plt.gca()\n",
        "ax.plot(alphas*2, coefs)\n",
        "ax.set_xscale('log')\n",
        "plt.axis('tight')\n",
        "plt.xlabel('alpha')\n",
        "plt.ylabel('weights')"
      ],
      "execution_count": 50,
      "outputs": [
        {
          "output_type": "execute_result",
          "data": {
            "text/plain": [
              "Text(0, 0.5, 'weights')"
            ]
          },
          "metadata": {
            "tags": []
          },
          "execution_count": 50
        },
        {
          "output_type": "display_data",
          "data": {
            "image/png": "[encoded data removed]",
            "text/plain": [
              "<Figure size 432x288 with 1 Axes>"
            ]
          },
          "metadata": {
            "tags": [],
            "needs_background": "light"
          }
        }
      ]
    },
    {
      "cell_type": "code",
      "metadata": {
        "id": "Er6vs_kMK4MU",
        "colab_type": "code",
        "colab": {
          "base_uri": "https://localhost:8080/",
          "height": 105
        },
        "outputId": "630877b7-6114-4c6b-cea3-91e3a10d142c"
      },
      "source": [
        "lassocv = LassoCV(alphas = None, cv = 10, max_iter = 100000, normalize = True)     # To initialize a Lasso Regressor with Cross Validation (CV)\n",
        "lassocv.fit(X_train, y_train)\n",
        "lassocv.predict(X_test)\n",
        "\n",
        "lasso.set_params(alpha=lassocv.alpha_)\n",
        "lasso.fit(X_train, y_train)\n",
        "print (f'Mean square error: {mean_squared_error(y_test, lasso.predict(X_test))}')    # To check the mean square error for the base value of alpha\n",
        "print (f'R^2 Value: {r2_score(y_test, lasso.predict(X_test))}')"
      ],
      "execution_count": 51,
      "outputs": [
        {
          "output_type": "stream",
          "text": [
            "Mean square error: 0.3898911093105134\n",
            "R^2 Value: 0.9924126408137579\n"
          ],
          "name": "stdout"
        },
        {
          "output_type": "stream",
          "text": [
            "/usr/local/lib/python3.6/dist-packages/sklearn/linear_model/_coordinate_descent.py:1088: DataConversionWarning: A column-vector y was passed when a 1d array was expected. Please change the shape of y to (n_samples, ), for example using ravel().\n",
            "  y = column_or_1d(y, warn=True)\n"
          ],
          "name": "stderr"
        }
      ]
    },
    {
      "cell_type": "code",
      "metadata": {
        "id": "2qf_W5NaMESz",
        "colab_type": "code",
        "colab": {
          "base_uri": "https://localhost:8080/",
          "height": 139
        },
        "outputId": "91533c6b-0695-4d51-9a18-b1b4515155a9"
      },
      "source": [
        "lassocv = LassoCV(alphas = None, cv = 10, max_iter = 100000, normalize = True)     # To initialize a Lasso Regressor with Cross Validation (CV)\n",
        "lassocv.fit(X_train, y_train)\n",
        "lassocv.predict(X_test)"
      ],
      "execution_count": 53,
      "outputs": [
        {
          "output_type": "stream",
          "text": [
            "/usr/local/lib/python3.6/dist-packages/sklearn/linear_model/_coordinate_descent.py:1088: DataConversionWarning: A column-vector y was passed when a 1d array was expected. Please change the shape of y to (n_samples, ), for example using ravel().\n",
            "  y = column_or_1d(y, warn=True)\n"
          ],
          "name": "stderr"
        },
        {
          "output_type": "execute_result",
          "data": {
            "text/plain": [
              "array([17.98533071, 16.91471116, 29.28332017, 13.48596173,  7.08941687,\n",
              "       28.54873443, 16.13008105, 18.15100528, 10.94663349,  4.73574891,\n",
              "       26.19662089, 26.20267972, 23.75710126, 24.79507501, 28.31524772,\n",
              "       17.3122372 , 25.20312735, 18.97305284, 19.86023338, 10.44551513])"
            ]
          },
          "metadata": {
            "tags": []
          },
          "execution_count": 53
        }
      ]
    },
    {
      "cell_type": "markdown",
      "metadata": {
        "id": "tlMK_c8-NjPy",
        "colab_type": "text"
      },
      "source": [
        "**Explanation:** Both R^2 and mean square error of Lasso have similar outputs when we searched for best value of alpha either cross validated or not. Thus, performing cross validation provides the model validity since we since we do not have to search for the best value of alpha; it is given by CV."
      ]
    },
    {
      "cell_type": "code",
      "metadata": {
        "id": "JrRCfOQmL8vH",
        "colab_type": "code",
        "colab": {}
      },
      "source": [
        ""
      ],
      "execution_count": null,
      "outputs": []
    }
  ]
}